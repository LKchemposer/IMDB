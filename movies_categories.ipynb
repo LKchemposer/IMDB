{
 "cells": [
  {
   "cell_type": "code",
   "execution_count": 99,
   "metadata": {},
   "outputs": [],
   "source": [
    "import pandas as pd\n",
    "import numpy as np\n",
    "import re\n",
    "import matplotlib.pyplot as plt\n",
    "%matplotlib inline\n",
    "import seaborn as sns\n",
    "sns.set()"
   ]
  },
  {
   "cell_type": "code",
   "execution_count": 100,
   "metadata": {},
   "outputs": [],
   "source": [
    "movies = pd.read_csv('movies_cleaned.csv')"
   ]
  },
  {
   "cell_type": "code",
   "execution_count": 101,
   "metadata": {},
   "outputs": [],
   "source": [
    "movies = movies.select_dtypes(object)"
   ]
  },
  {
   "cell_type": "code",
   "execution_count": 102,
   "metadata": {},
   "outputs": [
    {
     "data": {
      "image/png": "[encoded data removed]",
      "text/plain": [
       "<matplotlib.figure.Figure at 0x1a11c09358>"
      ]
     },
     "metadata": {},
     "output_type": "display_data"
    }
   ],
   "source": [
    "countries = movies['Country'].value_counts().reset_index()\n",
    "countries.columns = ['Country', 'Counts']\n",
    "countries = countries[countries['Counts'] < 10]['Country']\n",
    "movies.loc[movies['Country'].isin(countries), 'Country'] = 'Other'\n",
    "movies['Country'].value_counts().plot(kind='barh');"
   ]
  },
  {
   "cell_type": "code",
   "execution_count": 103,
   "metadata": {},
   "outputs": [
    {
     "data": {
      "image/png": "[encoded data removed]",
      "text/plain": [
       "<matplotlib.figure.Figure at 0x1a12621908>"
      ]
     },
     "metadata": {},
     "output_type": "display_data"
    }
   ],
   "source": [
    "mpaa = movies['MPAA'].str.split(', ').apply(pd.Series).stack().value_counts().reset_index()\n",
    "mpaa.columns = ['MPAA', 'Counts']\n",
    "mpaa = mpaa[mpaa['Counts'] < 50]['MPAA']\n",
    "movies.loc[movies['MPAA'].isin(mpaa), 'MPAA'] = 'OTHER'\n",
    "movies['MPAA'].value_counts().plot(kind='barh');"
   ]
  },
  {
   "cell_type": "code",
   "execution_count": 104,
   "metadata": {},
   "outputs": [],
   "source": [
    "prodco = movies['ProdCo'].str.split(', ').apply(pd.Series).stack()\n",
    "prodco_ = prodco.reset_index()\n",
    "prodco_.columns = ['ID', 'ProdCoNum', 'ProdCo']\n",
    "prodco = prodco.value_counts().reset_index()\n",
    "prodco.columns = ['ProdCo', 'Counts']\n",
    "prodco = prodco[prodco['Counts'] < 30]['ProdCo']\n",
    "prodco_.loc[prodco_['ProdCo'].isin(prodco), 'ProdCo'] = 'Other'\n",
    "prodco = prodco_.groupby('ID')['ProdCo'].apply(lambda i: ', '.join(i)).reset_index()\n",
    "prodco.set_index('ID', inplace=True)\n",
    "movies = movies.join(prodco, lsuffix='ID').drop('ProdCoID', axis=1)"
   ]
  },
  {
   "cell_type": "code",
   "execution_count": 106,
   "metadata": {},
   "outputs": [],
   "source": [
    "stars = movies['Stars'].str.split(', ').apply(pd.Series).stack()\n",
    "stars_ = stars.reset_index()\n",
    "stars_.columns = ['ID', 'StarsNum', 'Stars']\n",
    "stars = stars.value_counts().reset_index()\n",
    "stars.columns = ['Stars', 'Counts']\n",
    "stars = stars[stars['Counts'] < 10]['Stars']\n",
    "stars_.loc[stars_['Stars'].isin(stars), 'Stars'] = 'Other'\n",
    "stars = stars_.groupby('ID')['Stars'].apply(lambda i: ', '.join(i)).reset_index()\n",
    "stars.set_index('ID', inplace=True)\n",
    "movies = movies.join(stars, lsuffix='ID').drop('StarsID', axis=1)"
   ]
  },
  {
   "cell_type": "code",
   "execution_count": 110,
   "metadata": {},
   "outputs": [],
   "source": [
    "movies.to_csv('movies_cat.csv', index=False)"
   ]
  },
  {
   "cell_type": "code",
   "execution_count": null,
   "metadata": {},
   "outputs": [],
   "source": []
  }
 ],
 "metadata": {
  "kernelspec": {
   "display_name": "Python 3",
   "language": "python",
   "name": "python3"
  },
  "language_info": {
   "codemirror_mode": {
    "name": "ipython",
    "version": 3
   },
   "file_extension": ".py",
   "mimetype": "text/x-python",
   "name": "python",
   "nbconvert_exporter": "python",
   "pygments_lexer": "ipython3",
   "version": "3.6.4"
  }
 },
 "nbformat": 4,
 "nbformat_minor": 2
}
